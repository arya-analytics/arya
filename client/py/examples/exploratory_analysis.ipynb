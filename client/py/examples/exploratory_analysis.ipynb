{
 "cells": [
  {
   "cell_type": "code",
   "execution_count": 3,
   "id": "initial_id",
   "metadata": {
    "collapsed": true,
    "ExecuteTime": {
     "end_time": "2023-10-28T20:40:35.601849Z",
     "start_time": "2023-10-28T20:40:35.573534Z"
    }
   },
   "outputs": [
    {
     "ename": "ModuleNotFoundError",
     "evalue": "No module named 'alamos'",
     "output_type": "error",
     "traceback": [
      "\u001B[0;31m---------------------------------------------------------------------------\u001B[0m",
      "\u001B[0;31mModuleNotFoundError\u001B[0m                       Traceback (most recent call last)",
      "Cell \u001B[0;32mIn[3], line 1\u001B[0m\n\u001B[0;32m----> 1\u001B[0m \u001B[38;5;28;01mimport\u001B[39;00m \u001B[38;5;21;01msynnax\u001B[39;00m \u001B[38;5;28;01mas\u001B[39;00m \u001B[38;5;21;01msy\u001B[39;00m\n",
      "File \u001B[0;32m~/Desktop/synnaxlabs/synnax/client/py/synnax/__init__.py:12\u001B[0m\n\u001B[1;32m      1\u001B[0m \u001B[38;5;66;03m#  Copyright 2023 Synnax Labs, Inc.\u001B[39;00m\n\u001B[1;32m      2\u001B[0m \u001B[38;5;66;03m#\u001B[39;00m\n\u001B[1;32m      3\u001B[0m \u001B[38;5;66;03m#  Use of this software is governed by the Business Source License included in the file\u001B[39;00m\n\u001B[0;32m   (...)\u001B[0m\n\u001B[1;32m      7\u001B[0m \u001B[38;5;66;03m#  License, use of this software will be governed by the Apache License, Version 2.0,\u001B[39;00m\n\u001B[1;32m      8\u001B[0m \u001B[38;5;66;03m#  included in the file licenses/APL.txt.\u001B[39;00m\n\u001B[1;32m     10\u001B[0m __version__ \u001B[38;5;241m=\u001B[39m \u001B[38;5;124m\"\u001B[39m\u001B[38;5;124m0.3.0\u001B[39m\u001B[38;5;124m\"\u001B[39m\n\u001B[0;32m---> 12\u001B[0m \u001B[38;5;28;01mfrom\u001B[39;00m \u001B[38;5;21;01msynnax\u001B[39;00m\u001B[38;5;21;01m.\u001B[39;00m\u001B[38;5;21;01mchannel\u001B[39;00m \u001B[38;5;28;01mimport\u001B[39;00m Channel\n\u001B[1;32m     13\u001B[0m \u001B[38;5;28;01mfrom\u001B[39;00m \u001B[38;5;21;01msynnax\u001B[39;00m\u001B[38;5;21;01m.\u001B[39;00m\u001B[38;5;21;01mexceptions\u001B[39;00m \u001B[38;5;28;01mimport\u001B[39;00m (\n\u001B[1;32m     14\u001B[0m     AuthError,\n\u001B[1;32m     15\u001B[0m     ContiguityError,\n\u001B[0;32m   (...)\u001B[0m\n\u001B[1;32m     22\u001B[0m     ValidationError,\n\u001B[1;32m     23\u001B[0m )\n\u001B[1;32m     24\u001B[0m \u001B[38;5;28;01mfrom\u001B[39;00m \u001B[38;5;21;01msynnax\u001B[39;00m\u001B[38;5;21;01m.\u001B[39;00m\u001B[38;5;21;01mframer\u001B[39;00m \u001B[38;5;28;01mimport\u001B[39;00m BufferedWriter, Frame, Iterator, Streamer, Writer\n",
      "File \u001B[0;32m~/Desktop/synnaxlabs/synnax/client/py/synnax/channel/__init__.py:10\u001B[0m\n\u001B[1;32m      1\u001B[0m \u001B[38;5;66;03m#  Copyright 2023 Synnax Labs, Inc.\u001B[39;00m\n\u001B[1;32m      2\u001B[0m \u001B[38;5;66;03m#\u001B[39;00m\n\u001B[1;32m      3\u001B[0m \u001B[38;5;66;03m#  Use of this software is governed by the Business Source License included in the file\u001B[39;00m\n\u001B[0;32m   (...)\u001B[0m\n\u001B[1;32m      7\u001B[0m \u001B[38;5;66;03m#  License, use of this software will be governed by the Apache License, Version 2.0,\u001B[39;00m\n\u001B[1;32m      8\u001B[0m \u001B[38;5;66;03m#  included in the file licenses/APL.txt.\u001B[39;00m\n\u001B[0;32m---> 10\u001B[0m \u001B[38;5;28;01mfrom\u001B[39;00m \u001B[38;5;21;01msynnax\u001B[39;00m\u001B[38;5;21;01m.\u001B[39;00m\u001B[38;5;21;01mchannel\u001B[39;00m\u001B[38;5;21;01m.\u001B[39;00m\u001B[38;5;21;01mclient\u001B[39;00m \u001B[38;5;28;01mimport\u001B[39;00m Channel, ChannelClient\n\u001B[1;32m     11\u001B[0m \u001B[38;5;28;01mfrom\u001B[39;00m \u001B[38;5;21;01msynnax\u001B[39;00m\u001B[38;5;21;01m.\u001B[39;00m\u001B[38;5;21;01mchannel\u001B[39;00m\u001B[38;5;21;01m.\u001B[39;00m\u001B[38;5;21;01mpayload\u001B[39;00m \u001B[38;5;28;01mimport\u001B[39;00m (\n\u001B[1;32m     12\u001B[0m     ChannelKey,\n\u001B[1;32m     13\u001B[0m     ChannelKeys,\n\u001B[0;32m   (...)\u001B[0m\n\u001B[1;32m     18\u001B[0m     normalize_channel_params,\n\u001B[1;32m     19\u001B[0m )\n\u001B[1;32m     20\u001B[0m \u001B[38;5;28;01mfrom\u001B[39;00m \u001B[38;5;21;01msynnax\u001B[39;00m\u001B[38;5;21;01m.\u001B[39;00m\u001B[38;5;21;01mchannel\u001B[39;00m\u001B[38;5;21;01m.\u001B[39;00m\u001B[38;5;21;01mretrieve\u001B[39;00m \u001B[38;5;28;01mimport\u001B[39;00m ChannelRetriever\n",
      "File \u001B[0;32m~/Desktop/synnaxlabs/synnax/client/py/synnax/channel/client.py:16\u001B[0m\n\u001B[1;32m     13\u001B[0m \u001B[38;5;28;01mfrom\u001B[39;00m \u001B[38;5;21;01mnumpy\u001B[39;00m \u001B[38;5;28;01mimport\u001B[39;00m ndarray\n\u001B[1;32m     14\u001B[0m \u001B[38;5;28;01mfrom\u001B[39;00m \u001B[38;5;21;01mpydantic\u001B[39;00m \u001B[38;5;28;01mimport\u001B[39;00m PrivateAttr\n\u001B[0;32m---> 16\u001B[0m \u001B[38;5;28;01mfrom\u001B[39;00m \u001B[38;5;21;01msynnax\u001B[39;00m\u001B[38;5;21;01m.\u001B[39;00m\u001B[38;5;21;01mchannel\u001B[39;00m\u001B[38;5;21;01m.\u001B[39;00m\u001B[38;5;21;01mcreate\u001B[39;00m \u001B[38;5;28;01mimport\u001B[39;00m ChannelCreator\n\u001B[1;32m     17\u001B[0m \u001B[38;5;28;01mfrom\u001B[39;00m \u001B[38;5;21;01msynnax\u001B[39;00m\u001B[38;5;21;01m.\u001B[39;00m\u001B[38;5;21;01mchannel\u001B[39;00m\u001B[38;5;21;01m.\u001B[39;00m\u001B[38;5;21;01mpayload\u001B[39;00m \u001B[38;5;28;01mimport\u001B[39;00m (\n\u001B[1;32m     18\u001B[0m     ChannelKey,\n\u001B[1;32m     19\u001B[0m     ChannelKeys,\n\u001B[0;32m   (...)\u001B[0m\n\u001B[1;32m     24\u001B[0m     normalize_channel_params,\n\u001B[1;32m     25\u001B[0m )\n\u001B[1;32m     26\u001B[0m \u001B[38;5;28;01mfrom\u001B[39;00m \u001B[38;5;21;01msynnax\u001B[39;00m\u001B[38;5;21;01m.\u001B[39;00m\u001B[38;5;21;01mchannel\u001B[39;00m\u001B[38;5;21;01m.\u001B[39;00m\u001B[38;5;21;01mretrieve\u001B[39;00m \u001B[38;5;28;01mimport\u001B[39;00m ChannelRetriever\n",
      "File \u001B[0;32m~/Desktop/synnaxlabs/synnax/client/py/synnax/channel/create.py:10\u001B[0m\n\u001B[1;32m      1\u001B[0m \u001B[38;5;66;03m#  Copyright 2023 Synnax Labs, Inc.\u001B[39;00m\n\u001B[1;32m      2\u001B[0m \u001B[38;5;66;03m#\u001B[39;00m\n\u001B[1;32m      3\u001B[0m \u001B[38;5;66;03m#  Use of this software is governed by the Business Source License included in the file\u001B[39;00m\n\u001B[0;32m   (...)\u001B[0m\n\u001B[1;32m      7\u001B[0m \u001B[38;5;66;03m#  License, use of this software will be governed by the Apache License, Version 2.0,\u001B[39;00m\n\u001B[1;32m      8\u001B[0m \u001B[38;5;66;03m#  included in the file licenses/APL.txt.\u001B[39;00m\n\u001B[0;32m---> 10\u001B[0m \u001B[38;5;28;01mfrom\u001B[39;00m \u001B[38;5;21;01malamos\u001B[39;00m \u001B[38;5;28;01mimport\u001B[39;00m Instrumentation, trace\n\u001B[1;32m     11\u001B[0m \u001B[38;5;28;01mfrom\u001B[39;00m \u001B[38;5;21;01mfreighter\u001B[39;00m \u001B[38;5;28;01mimport\u001B[39;00m Payload, UnaryClient\n\u001B[1;32m     13\u001B[0m \u001B[38;5;28;01mfrom\u001B[39;00m \u001B[38;5;21;01msynnax\u001B[39;00m\u001B[38;5;21;01m.\u001B[39;00m\u001B[38;5;21;01mchannel\u001B[39;00m\u001B[38;5;21;01m.\u001B[39;00m\u001B[38;5;21;01mpayload\u001B[39;00m \u001B[38;5;28;01mimport\u001B[39;00m ChannelPayload\n",
      "\u001B[0;31mModuleNotFoundError\u001B[0m: No module named 'alamos'"
     ]
    }
   ],
   "source": [
    "import synnax as sy"
   ]
  },
  {
   "cell_type": "code",
   "execution_count": null,
   "outputs": [],
   "source": [],
   "metadata": {
    "collapsed": false
   },
   "id": "2673a633ab4e7722"
  }
 ],
 "metadata": {
  "kernelspec": {
   "display_name": "Python 3",
   "language": "python",
   "name": "python3"
  },
  "language_info": {
   "codemirror_mode": {
    "name": "ipython",
    "version": 2
   },
   "file_extension": ".py",
   "mimetype": "text/x-python",
   "name": "python",
   "nbconvert_exporter": "python",
   "pygments_lexer": "ipython2",
   "version": "2.7.6"
  }
 },
 "nbformat": 4,
 "nbformat_minor": 5
}
